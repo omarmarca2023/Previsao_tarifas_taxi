{
 "cells": [
  {
   "cell_type": "markdown",
   "id": "34c28a60",
   "metadata": {},
   "source": [
    "# Previsão de Tarifas em Corridas de Táxi"
   ]
  },
  {
   "cell_type": "markdown",
   "id": "971ff7eb",
   "metadata": {},
   "source": [
    "- Empresas  como a Uber estão usando amplamente o aprendizado de máquina para prever tarifas, tráfego e viagens usando dados anteriores."
   ]
  },
  {
   "cell_type": "markdown",
   "id": "88013044",
   "metadata": {},
   "source": [
    "## 1. Problema de Negócio"
   ]
  },
  {
   "cell_type": "markdown",
   "id": "238c8b39",
   "metadata": {},
   "source": [
    "- Imagine que você trabalha para uma empresa de táxi e que uma das maiores reclamações de seus clientes é que eles não sabem quanto custará uma corrida até que ela termine.Isso porque a distância é apenas um dos vários fatores a partir dos quais as tarifas de táxi são calculadas.\n",
    "\n",
    "\n",
    "- Você decide fazer algo a respeito criando um aplicativo móvel que os clientes possam usar quando entrarem em um táxi para estimar qual será a tarifa.Para fornecer inteligência ao aplicativo, você pretende usar as enormes quantidades de dados de tarifas que a empresa coletou ao longo dos anos para criar um modelo de aprendizado de máquina.\n",
    "\n",
    "\n",
    "- O conjunto de dados contém cerca de 150000 linhas e é um subconjunto de um conjunto de dados muito maior usado na competição [New York City Taxi Fare Prediction](https://www.kaggle.com/c/new-york-city-taxi-fare-prediction) da Kaggle.\n"
   ]
  },
  {
   "cell_type": "markdown",
   "id": "8391b18f",
   "metadata": {},
   "source": [
    "As seguintes variáveis estão presentes no conjunto de dados:\n",
    "\n",
    "ID\n",
    "- key: deve ser usado apenas como um campo de ID exclusivo.\n",
    "\n",
    "Target\n",
    "- fare_amount: valor em dólares do custo da corrida de táxi.\n",
    "\n",
    "Features\n",
    "- pickup_datetime: data/hora que indica quando a corrida de táxi começou.\n",
    "- pickup_longitude: coordenada de longitude de onde a corrida de táxi começou.\n",
    "- pickup_longitude: coordenada de latitude de onde a corrida de táxi começou.\n",
    "- dropoff_longitude: coordenada de longitude de onde a corrida de táxi terminou.\n",
    "- dropoff_latitude: coordenada de latitude de onde a corrida de táxi terminou.\n",
    "- passenger_count: número de passageiros na corrida de táxi."
   ]
  },
  {
   "cell_type": "markdown",
   "id": "0a570cf9",
   "metadata": {},
   "source": [
    "## 2. Importar bibliotecas e conjunto de dados\n"
   ]
  },
  {
   "cell_type": "code",
   "execution_count": 1,
   "id": "fe7854aa",
   "metadata": {},
   "outputs": [
    {
     "data": {
      "text/html": [
       "<div>\n",
       "<style scoped>\n",
       "    .dataframe tbody tr th:only-of-type {\n",
       "        vertical-align: middle;\n",
       "    }\n",
       "\n",
       "    .dataframe tbody tr th {\n",
       "        vertical-align: top;\n",
       "    }\n",
       "\n",
       "    .dataframe thead th {\n",
       "        text-align: right;\n",
       "    }\n",
       "</style>\n",
       "<table border=\"1\" class=\"dataframe\">\n",
       "  <thead>\n",
       "    <tr style=\"text-align: right;\">\n",
       "      <th></th>\n",
       "      <th>key</th>\n",
       "      <th>fare_amount</th>\n",
       "      <th>pickup_datetime</th>\n",
       "      <th>pickup_longitude</th>\n",
       "      <th>pickup_latitude</th>\n",
       "      <th>dropoff_longitude</th>\n",
       "      <th>dropoff_latitude</th>\n",
       "      <th>passenger_count</th>\n",
       "    </tr>\n",
       "  </thead>\n",
       "  <tbody>\n",
       "    <tr>\n",
       "      <th>0</th>\n",
       "      <td>2009-06-15 17:26:21.0000001</td>\n",
       "      <td>4.5</td>\n",
       "      <td>2009-06-15 17:26:21 UTC</td>\n",
       "      <td>-73.844311</td>\n",
       "      <td>40.721319</td>\n",
       "      <td>-73.841610</td>\n",
       "      <td>40.712278</td>\n",
       "      <td>1</td>\n",
       "    </tr>\n",
       "    <tr>\n",
       "      <th>1</th>\n",
       "      <td>2010-01-05 16:52:16.0000002</td>\n",
       "      <td>16.9</td>\n",
       "      <td>2010-01-05 16:52:16 UTC</td>\n",
       "      <td>-74.016048</td>\n",
       "      <td>40.711303</td>\n",
       "      <td>-73.979268</td>\n",
       "      <td>40.782004</td>\n",
       "      <td>1</td>\n",
       "    </tr>\n",
       "    <tr>\n",
       "      <th>2</th>\n",
       "      <td>2011-08-18 00:35:00.00000049</td>\n",
       "      <td>5.7</td>\n",
       "      <td>2011-08-18 00:35:00 UTC</td>\n",
       "      <td>-73.982738</td>\n",
       "      <td>40.761270</td>\n",
       "      <td>-73.991242</td>\n",
       "      <td>40.750562</td>\n",
       "      <td>2</td>\n",
       "    </tr>\n",
       "    <tr>\n",
       "      <th>3</th>\n",
       "      <td>2012-04-21 04:30:42.0000001</td>\n",
       "      <td>7.7</td>\n",
       "      <td>2012-04-21 04:30:42 UTC</td>\n",
       "      <td>-73.987130</td>\n",
       "      <td>40.733143</td>\n",
       "      <td>-73.991567</td>\n",
       "      <td>40.758092</td>\n",
       "      <td>1</td>\n",
       "    </tr>\n",
       "    <tr>\n",
       "      <th>4</th>\n",
       "      <td>2010-03-09 07:51:00.000000135</td>\n",
       "      <td>5.3</td>\n",
       "      <td>2010-03-09 07:51:00 UTC</td>\n",
       "      <td>-73.968095</td>\n",
       "      <td>40.768008</td>\n",
       "      <td>-73.956655</td>\n",
       "      <td>40.783762</td>\n",
       "      <td>1</td>\n",
       "    </tr>\n",
       "  </tbody>\n",
       "</table>\n",
       "</div>"
      ],
      "text/plain": [
       "                             key  fare_amount          pickup_datetime  \\\n",
       "0    2009-06-15 17:26:21.0000001          4.5  2009-06-15 17:26:21 UTC   \n",
       "1    2010-01-05 16:52:16.0000002         16.9  2010-01-05 16:52:16 UTC   \n",
       "2   2011-08-18 00:35:00.00000049          5.7  2011-08-18 00:35:00 UTC   \n",
       "3    2012-04-21 04:30:42.0000001          7.7  2012-04-21 04:30:42 UTC   \n",
       "4  2010-03-09 07:51:00.000000135          5.3  2010-03-09 07:51:00 UTC   \n",
       "\n",
       "   pickup_longitude  pickup_latitude  dropoff_longitude  dropoff_latitude  \\\n",
       "0        -73.844311        40.721319         -73.841610         40.712278   \n",
       "1        -74.016048        40.711303         -73.979268         40.782004   \n",
       "2        -73.982738        40.761270         -73.991242         40.750562   \n",
       "3        -73.987130        40.733143         -73.991567         40.758092   \n",
       "4        -73.968095        40.768008         -73.956655         40.783762   \n",
       "\n",
       "   passenger_count  \n",
       "0                1  \n",
       "1                1  \n",
       "2                2  \n",
       "3                1  \n",
       "4                1  "
      ]
     },
     "execution_count": 1,
     "metadata": {},
     "output_type": "execute_result"
    }
   ],
   "source": [
    "import pandas as pd\n",
    "import numpy as np\n",
    "import matplotlib.pyplot as plt\n",
    "import seaborn as sns\n",
    "%matplotlib inline\n",
    " \n",
    "df = pd.read_csv('taxi_tarifas.csv')\n",
    "df.head()"
   ]
  },
  {
   "cell_type": "markdown",
   "id": "3546f7f2",
   "metadata": {},
   "source": [
    "### 2.1 Análises preliminares"
   ]
  },
  {
   "cell_type": "code",
   "execution_count": 2,
   "id": "67a08b59",
   "metadata": {},
   "outputs": [
    {
     "name": "stdout",
     "output_type": "stream",
     "text": [
      "<class 'pandas.core.frame.DataFrame'>\n",
      "RangeIndex: 150000 entries, 0 to 149999\n",
      "Data columns (total 8 columns):\n",
      " #   Column             Non-Null Count   Dtype  \n",
      "---  ------             --------------   -----  \n",
      " 0   key                150000 non-null  object \n",
      " 1   fare_amount        150000 non-null  float64\n",
      " 2   pickup_datetime    150000 non-null  object \n",
      " 3   pickup_longitude   150000 non-null  float64\n",
      " 4   pickup_latitude    150000 non-null  float64\n",
      " 5   dropoff_longitude  149999 non-null  float64\n",
      " 6   dropoff_latitude   149999 non-null  float64\n",
      " 7   passenger_count    150000 non-null  int64  \n",
      "dtypes: float64(5), int64(1), object(2)\n",
      "memory usage: 9.2+ MB\n"
     ]
    }
   ],
   "source": [
    "# Obter uma descrição dos dados\n",
    "\n",
    "df.info()"
   ]
  },
  {
   "cell_type": "markdown",
   "id": "160d5543",
   "metadata": {},
   "source": [
    " - 8 variáveis e 150000 observações no dataset e a variável fare_amount é a variável alvo. A variable dropoff_longitude e dropoff_latitude tem missing values. A variable pickup_datetime precisa ser convertida em um objeto datetime."
   ]
  },
  {
   "cell_type": "code",
   "execution_count": 3,
   "id": "3ba0dc52",
   "metadata": {},
   "outputs": [
    {
     "data": {
      "text/html": [
       "<div>\n",
       "<style scoped>\n",
       "    .dataframe tbody tr th:only-of-type {\n",
       "        vertical-align: middle;\n",
       "    }\n",
       "\n",
       "    .dataframe tbody tr th {\n",
       "        vertical-align: top;\n",
       "    }\n",
       "\n",
       "    .dataframe thead th {\n",
       "        text-align: right;\n",
       "    }\n",
       "</style>\n",
       "<table border=\"1\" class=\"dataframe\">\n",
       "  <thead>\n",
       "    <tr style=\"text-align: right;\">\n",
       "      <th></th>\n",
       "      <th>count</th>\n",
       "      <th>mean</th>\n",
       "      <th>std</th>\n",
       "      <th>min</th>\n",
       "      <th>25%</th>\n",
       "      <th>50%</th>\n",
       "      <th>75%</th>\n",
       "      <th>max</th>\n",
       "    </tr>\n",
       "  </thead>\n",
       "  <tbody>\n",
       "    <tr>\n",
       "      <th>fare_amount</th>\n",
       "      <td>150000.0</td>\n",
       "      <td>11.361849</td>\n",
       "      <td>9.870671</td>\n",
       "      <td>-44.900000</td>\n",
       "      <td>6.000000</td>\n",
       "      <td>8.500000</td>\n",
       "      <td>12.500000</td>\n",
       "      <td>500.000000</td>\n",
       "    </tr>\n",
       "    <tr>\n",
       "      <th>pickup_longitude</th>\n",
       "      <td>150000.0</td>\n",
       "      <td>-72.500714</td>\n",
       "      <td>10.586363</td>\n",
       "      <td>-736.550000</td>\n",
       "      <td>-73.992028</td>\n",
       "      <td>-73.981732</td>\n",
       "      <td>-73.966989</td>\n",
       "      <td>40.787575</td>\n",
       "    </tr>\n",
       "    <tr>\n",
       "      <th>pickup_latitude</th>\n",
       "      <td>150000.0</td>\n",
       "      <td>39.921610</td>\n",
       "      <td>6.131464</td>\n",
       "      <td>-74.007670</td>\n",
       "      <td>40.734955</td>\n",
       "      <td>40.752720</td>\n",
       "      <td>40.767145</td>\n",
       "      <td>401.083332</td>\n",
       "    </tr>\n",
       "    <tr>\n",
       "      <th>dropoff_longitude</th>\n",
       "      <td>149999.0</td>\n",
       "      <td>-72.507088</td>\n",
       "      <td>10.406313</td>\n",
       "      <td>-84.654241</td>\n",
       "      <td>-73.991258</td>\n",
       "      <td>-73.980042</td>\n",
       "      <td>-73.963473</td>\n",
       "      <td>40.851027</td>\n",
       "    </tr>\n",
       "    <tr>\n",
       "      <th>dropoff_latitude</th>\n",
       "      <td>149999.0</td>\n",
       "      <td>39.928809</td>\n",
       "      <td>6.110042</td>\n",
       "      <td>-74.015160</td>\n",
       "      <td>40.734126</td>\n",
       "      <td>40.753243</td>\n",
       "      <td>40.768088</td>\n",
       "      <td>404.616667</td>\n",
       "    </tr>\n",
       "    <tr>\n",
       "      <th>passenger_count</th>\n",
       "      <td>150000.0</td>\n",
       "      <td>1.680407</td>\n",
       "      <td>1.305797</td>\n",
       "      <td>0.000000</td>\n",
       "      <td>1.000000</td>\n",
       "      <td>1.000000</td>\n",
       "      <td>2.000000</td>\n",
       "      <td>6.000000</td>\n",
       "    </tr>\n",
       "  </tbody>\n",
       "</table>\n",
       "</div>"
      ],
      "text/plain": [
       "                      count       mean        std         min        25%  \\\n",
       "fare_amount        150000.0  11.361849   9.870671  -44.900000   6.000000   \n",
       "pickup_longitude   150000.0 -72.500714  10.586363 -736.550000 -73.992028   \n",
       "pickup_latitude    150000.0  39.921610   6.131464  -74.007670  40.734955   \n",
       "dropoff_longitude  149999.0 -72.507088  10.406313  -84.654241 -73.991258   \n",
       "dropoff_latitude   149999.0  39.928809   6.110042  -74.015160  40.734126   \n",
       "passenger_count    150000.0   1.680407   1.305797    0.000000   1.000000   \n",
       "\n",
       "                         50%        75%         max  \n",
       "fare_amount         8.500000  12.500000  500.000000  \n",
       "pickup_longitude  -73.981732 -73.966989   40.787575  \n",
       "pickup_latitude    40.752720  40.767145  401.083332  \n",
       "dropoff_longitude -73.980042 -73.963473   40.851027  \n",
       "dropoff_latitude   40.753243  40.768088  404.616667  \n",
       "passenger_count     1.000000   2.000000    6.000000  "
      ]
     },
     "execution_count": 3,
     "metadata": {},
     "output_type": "execute_result"
    }
   ],
   "source": [
    "# Resumo dos atributos numéricos\n",
    "\n",
    "df.describe().transpose()"
   ]
  },
  {
   "cell_type": "markdown",
   "id": "a7ffa0a7",
   "metadata": {},
   "source": [
    "- A variável de interesse fare_amount apresenta outliers.\n",
    "- A variável \"passenger_count\" possui observações com zero passageiros, é recomendável remover essas instâncias."
   ]
  },
  {
   "cell_type": "code",
   "execution_count": 4,
   "id": "461a9fef",
   "metadata": {},
   "outputs": [
    {
     "data": {
      "text/plain": [
       "fare_amount          1.000000\n",
       "passenger_count      0.013923\n",
       "pickup_longitude     0.011414\n",
       "dropoff_longitude    0.009355\n",
       "dropoff_latitude    -0.008716\n",
       "pickup_latitude     -0.011092\n",
       "Name: fare_amount, dtype: float64"
      ]
     },
     "execution_count": 4,
     "metadata": {},
     "output_type": "execute_result"
    }
   ],
   "source": [
    "# Analisar  a influência das variáveis de entrada, como latitude e longitude, nos valores da variable alvo fare_amount.\n",
    "\n",
    "corr_matrix = df.corr()\n",
    "corr_matrix['fare_amount'].sort_values(ascending=False)"
   ]
  },
  {
   "cell_type": "markdown",
   "id": "38e58c7c",
   "metadata": {},
   "source": [
    "- Latitudes e longitudes têm pouco a ver com a variável fare_amount pelo menos em sua forma atual, porém, eles especificam pontos de partida e chegada e passeios mais longos incorrem em tarifas mais altas.\n",
    "- É necessário calcular as distâncias com base nas coordenadas de latitude e longitude fornecidas."
   ]
  },
  {
   "cell_type": "markdown",
   "id": "6322aa63",
   "metadata": {},
   "source": [
    "## 3. Pré-processamento "
   ]
  },
  {
   "cell_type": "markdown",
   "id": "a64ab6a8",
   "metadata": {},
   "source": [
    "### 3.1 Descarte de variáveis não importantes e conversão da variável pickup_datetime para datetime"
   ]
  },
  {
   "cell_type": "code",
   "execution_count": 5,
   "id": "6af92903",
   "metadata": {},
   "outputs": [
    {
     "data": {
      "text/html": [
       "<div>\n",
       "<style scoped>\n",
       "    .dataframe tbody tr th:only-of-type {\n",
       "        vertical-align: middle;\n",
       "    }\n",
       "\n",
       "    .dataframe tbody tr th {\n",
       "        vertical-align: top;\n",
       "    }\n",
       "\n",
       "    .dataframe thead th {\n",
       "        text-align: right;\n",
       "    }\n",
       "</style>\n",
       "<table border=\"1\" class=\"dataframe\">\n",
       "  <thead>\n",
       "    <tr style=\"text-align: right;\">\n",
       "      <th></th>\n",
       "      <th>fare_amount</th>\n",
       "      <th>pickup_datetime</th>\n",
       "      <th>pickup_longitude</th>\n",
       "      <th>pickup_latitude</th>\n",
       "      <th>dropoff_longitude</th>\n",
       "      <th>dropoff_latitude</th>\n",
       "      <th>passenger_count</th>\n",
       "    </tr>\n",
       "  </thead>\n",
       "  <tbody>\n",
       "    <tr>\n",
       "      <th>0</th>\n",
       "      <td>4.5</td>\n",
       "      <td>2009-06-15 17:26:21+00:00</td>\n",
       "      <td>-73.844311</td>\n",
       "      <td>40.721319</td>\n",
       "      <td>-73.841610</td>\n",
       "      <td>40.712278</td>\n",
       "      <td>1</td>\n",
       "    </tr>\n",
       "    <tr>\n",
       "      <th>1</th>\n",
       "      <td>16.9</td>\n",
       "      <td>2010-01-05 16:52:16+00:00</td>\n",
       "      <td>-74.016048</td>\n",
       "      <td>40.711303</td>\n",
       "      <td>-73.979268</td>\n",
       "      <td>40.782004</td>\n",
       "      <td>1</td>\n",
       "    </tr>\n",
       "    <tr>\n",
       "      <th>2</th>\n",
       "      <td>5.7</td>\n",
       "      <td>2011-08-18 00:35:00+00:00</td>\n",
       "      <td>-73.982738</td>\n",
       "      <td>40.761270</td>\n",
       "      <td>-73.991242</td>\n",
       "      <td>40.750562</td>\n",
       "      <td>2</td>\n",
       "    </tr>\n",
       "    <tr>\n",
       "      <th>3</th>\n",
       "      <td>7.7</td>\n",
       "      <td>2012-04-21 04:30:42+00:00</td>\n",
       "      <td>-73.987130</td>\n",
       "      <td>40.733143</td>\n",
       "      <td>-73.991567</td>\n",
       "      <td>40.758092</td>\n",
       "      <td>1</td>\n",
       "    </tr>\n",
       "    <tr>\n",
       "      <th>4</th>\n",
       "      <td>5.3</td>\n",
       "      <td>2010-03-09 07:51:00+00:00</td>\n",
       "      <td>-73.968095</td>\n",
       "      <td>40.768008</td>\n",
       "      <td>-73.956655</td>\n",
       "      <td>40.783762</td>\n",
       "      <td>1</td>\n",
       "    </tr>\n",
       "  </tbody>\n",
       "</table>\n",
       "</div>"
      ],
      "text/plain": [
       "   fare_amount           pickup_datetime  pickup_longitude  pickup_latitude  \\\n",
       "0          4.5 2009-06-15 17:26:21+00:00        -73.844311        40.721319   \n",
       "1         16.9 2010-01-05 16:52:16+00:00        -74.016048        40.711303   \n",
       "2          5.7 2011-08-18 00:35:00+00:00        -73.982738        40.761270   \n",
       "3          7.7 2012-04-21 04:30:42+00:00        -73.987130        40.733143   \n",
       "4          5.3 2010-03-09 07:51:00+00:00        -73.968095        40.768008   \n",
       "\n",
       "   dropoff_longitude  dropoff_latitude  passenger_count  \n",
       "0         -73.841610         40.712278                1  \n",
       "1         -73.979268         40.782004                1  \n",
       "2         -73.991242         40.750562                2  \n",
       "3         -73.991567         40.758092                1  \n",
       "4         -73.956655         40.783762                1  "
      ]
     },
     "execution_count": 5,
     "metadata": {},
     "output_type": "execute_result"
    }
   ],
   "source": [
    "df = df.drop(['key'], axis=1)\n",
    "\n",
    "df['pickup_datetime'] = pd.to_datetime(df['pickup_datetime'])\n",
    "\n",
    "df.head()"
   ]
  },
  {
   "cell_type": "markdown",
   "id": "e58ae052",
   "metadata": {},
   "source": [
    "### 3.2 Remoção das linhas com zero passageiros"
   ]
  },
  {
   "cell_type": "code",
   "execution_count": 6,
   "id": "e1fe8833",
   "metadata": {},
   "outputs": [
    {
     "data": {
      "image/png": "[encoded data removed]",
      "text/plain": [
       "<Figure size 432x288 with 1 Axes>"
      ]
     },
     "metadata": {},
     "output_type": "display_data"
    }
   ],
   "source": [
    "sns.set()\n",
    "\n",
    "sns.countplot(x=df['passenger_count']);"
   ]
  },
  {
   "cell_type": "code",
   "execution_count": 7,
   "id": "62a9f008",
   "metadata": {},
   "outputs": [
    {
     "data": {
      "text/plain": [
       "(149447, 7)"
      ]
     },
     "execution_count": 7,
     "metadata": {},
     "output_type": "execute_result"
    }
   ],
   "source": [
    "df = df[df['passenger_count'] >= 1]\n",
    "\n",
    "df.shape"
   ]
  },
  {
   "cell_type": "markdown",
   "id": "6d58f3fc",
   "metadata": {},
   "source": [
    "###  3.3 Criando novas colunas de dados a partir das informações contidas em outras colunas"
   ]
  },
  {
   "cell_type": "markdown",
   "id": "4899ff60",
   "metadata": {},
   "source": [
    "- dia: Dia da semana (0=segunda-feira, 1=terça-feira e assim por diante).\n",
    "\n",
    "\n",
    "- hora: Hora do dia em que o passageiro foi pego (0–23 horas).\n",
    "\n",
    "\n",
    "- distancia: A distância (pelo ar, não na rua) em milhas percorridas pelo passeio.Para calcular distâncias, este código assume que a maioria dos passeios são curtos e que, portanto, é seguro ignorar a curvatura do Terra.\n",
    "\n",
    "\n",
    "- Um grau de latitude equivale a aproximadamente 69 milhas e um grau de longitude é igual 54,6 milhas (é possível calcular distância usando a fórmula de haversine)."
   ]
  },
  {
   "cell_type": "code",
   "execution_count": 8,
   "id": "911acecb",
   "metadata": {},
   "outputs": [
    {
     "data": {
      "text/html": [
       "<div>\n",
       "<style scoped>\n",
       "    .dataframe tbody tr th:only-of-type {\n",
       "        vertical-align: middle;\n",
       "    }\n",
       "\n",
       "    .dataframe tbody tr th {\n",
       "        vertical-align: top;\n",
       "    }\n",
       "\n",
       "    .dataframe thead th {\n",
       "        text-align: right;\n",
       "    }\n",
       "</style>\n",
       "<table border=\"1\" class=\"dataframe\">\n",
       "  <thead>\n",
       "    <tr style=\"text-align: right;\">\n",
       "      <th></th>\n",
       "      <th>fare_amount</th>\n",
       "      <th>pickup_datetime</th>\n",
       "      <th>pickup_longitude</th>\n",
       "      <th>pickup_latitude</th>\n",
       "      <th>dropoff_longitude</th>\n",
       "      <th>dropoff_latitude</th>\n",
       "      <th>passenger_count</th>\n",
       "      <th>dia</th>\n",
       "      <th>hora</th>\n",
       "      <th>distancia</th>\n",
       "    </tr>\n",
       "  </thead>\n",
       "  <tbody>\n",
       "    <tr>\n",
       "      <th>0</th>\n",
       "      <td>4.5</td>\n",
       "      <td>2009-06-15 17:26:21+00:00</td>\n",
       "      <td>-73.844311</td>\n",
       "      <td>40.721319</td>\n",
       "      <td>-73.841610</td>\n",
       "      <td>40.712278</td>\n",
       "      <td>1</td>\n",
       "      <td>0.0</td>\n",
       "      <td>17.0</td>\n",
       "      <td>0.641024</td>\n",
       "    </tr>\n",
       "    <tr>\n",
       "      <th>1</th>\n",
       "      <td>16.9</td>\n",
       "      <td>2010-01-05 16:52:16+00:00</td>\n",
       "      <td>-74.016048</td>\n",
       "      <td>40.711303</td>\n",
       "      <td>-73.979268</td>\n",
       "      <td>40.782004</td>\n",
       "      <td>1</td>\n",
       "      <td>1.0</td>\n",
       "      <td>16.0</td>\n",
       "      <td>5.275538</td>\n",
       "    </tr>\n",
       "    <tr>\n",
       "      <th>2</th>\n",
       "      <td>5.7</td>\n",
       "      <td>2011-08-18 00:35:00+00:00</td>\n",
       "      <td>-73.982738</td>\n",
       "      <td>40.761270</td>\n",
       "      <td>-73.991242</td>\n",
       "      <td>40.750562</td>\n",
       "      <td>2</td>\n",
       "      <td>3.0</td>\n",
       "      <td>0.0</td>\n",
       "      <td>0.872636</td>\n",
       "    </tr>\n",
       "    <tr>\n",
       "      <th>3</th>\n",
       "      <td>7.7</td>\n",
       "      <td>2012-04-21 04:30:42+00:00</td>\n",
       "      <td>-73.987130</td>\n",
       "      <td>40.733143</td>\n",
       "      <td>-73.991567</td>\n",
       "      <td>40.758092</td>\n",
       "      <td>1</td>\n",
       "      <td>5.0</td>\n",
       "      <td>4.0</td>\n",
       "      <td>1.738444</td>\n",
       "    </tr>\n",
       "    <tr>\n",
       "      <th>4</th>\n",
       "      <td>5.3</td>\n",
       "      <td>2010-03-09 07:51:00+00:00</td>\n",
       "      <td>-73.968095</td>\n",
       "      <td>40.768008</td>\n",
       "      <td>-73.956655</td>\n",
       "      <td>40.783762</td>\n",
       "      <td>1</td>\n",
       "      <td>1.0</td>\n",
       "      <td>7.0</td>\n",
       "      <td>1.253707</td>\n",
       "    </tr>\n",
       "  </tbody>\n",
       "</table>\n",
       "</div>"
      ],
      "text/plain": [
       "   fare_amount           pickup_datetime  pickup_longitude  pickup_latitude  \\\n",
       "0          4.5 2009-06-15 17:26:21+00:00        -73.844311        40.721319   \n",
       "1         16.9 2010-01-05 16:52:16+00:00        -74.016048        40.711303   \n",
       "2          5.7 2011-08-18 00:35:00+00:00        -73.982738        40.761270   \n",
       "3          7.7 2012-04-21 04:30:42+00:00        -73.987130        40.733143   \n",
       "4          5.3 2010-03-09 07:51:00+00:00        -73.968095        40.768008   \n",
       "\n",
       "   dropoff_longitude  dropoff_latitude  passenger_count  dia  hora  distancia  \n",
       "0         -73.841610         40.712278                1  0.0  17.0   0.641024  \n",
       "1         -73.979268         40.782004                1  1.0  16.0   5.275538  \n",
       "2         -73.991242         40.750562                2  3.0   0.0   0.872636  \n",
       "3         -73.991567         40.758092                1  5.0   4.0   1.738444  \n",
       "4         -73.956655         40.783762                1  1.0   7.0   1.253707  "
      ]
     },
     "execution_count": 8,
     "metadata": {},
     "output_type": "execute_result"
    }
   ],
   "source": [
    "import datetime\n",
    "from math import sqrt\n",
    " \n",
    "for i, row in df.iterrows():\n",
    "    dt = row['pickup_datetime']\n",
    "    df.at[i, 'dia'] = dt.weekday()\n",
    "    df.at[i, 'hora'] = dt.hour\n",
    "    x = (row['dropoff_longitude'] - row['pickup_longitude']) * 54.6 # 1 grau == 54.6 milhas\n",
    "    y = (row['dropoff_latitude'] - row['pickup_latitude']) * 69.0   # 1 grau == 69 milhas\n",
    "    distance = sqrt(x**2 + y**2)\n",
    "    df.at[i, 'distancia'] = distance\n",
    "     \n",
    "df.head()"
   ]
  },
  {
   "cell_type": "markdown",
   "id": "e7c057f0",
   "metadata": {},
   "source": [
    "### 3.4 Eliminação das colunas que já não são necessárias"
   ]
  },
  {
   "cell_type": "code",
   "execution_count": 9,
   "id": "e6fa5760",
   "metadata": {},
   "outputs": [
    {
     "data": {
      "text/html": [
       "<div>\n",
       "<style scoped>\n",
       "    .dataframe tbody tr th:only-of-type {\n",
       "        vertical-align: middle;\n",
       "    }\n",
       "\n",
       "    .dataframe tbody tr th {\n",
       "        vertical-align: top;\n",
       "    }\n",
       "\n",
       "    .dataframe thead th {\n",
       "        text-align: right;\n",
       "    }\n",
       "</style>\n",
       "<table border=\"1\" class=\"dataframe\">\n",
       "  <thead>\n",
       "    <tr style=\"text-align: right;\">\n",
       "      <th></th>\n",
       "      <th>fare_amount</th>\n",
       "      <th>passenger_count</th>\n",
       "      <th>dia</th>\n",
       "      <th>hora</th>\n",
       "      <th>distancia</th>\n",
       "    </tr>\n",
       "  </thead>\n",
       "  <tbody>\n",
       "    <tr>\n",
       "      <th>0</th>\n",
       "      <td>4.5</td>\n",
       "      <td>1</td>\n",
       "      <td>0.0</td>\n",
       "      <td>17.0</td>\n",
       "      <td>0.641024</td>\n",
       "    </tr>\n",
       "    <tr>\n",
       "      <th>1</th>\n",
       "      <td>16.9</td>\n",
       "      <td>1</td>\n",
       "      <td>1.0</td>\n",
       "      <td>16.0</td>\n",
       "      <td>5.275538</td>\n",
       "    </tr>\n",
       "    <tr>\n",
       "      <th>2</th>\n",
       "      <td>5.7</td>\n",
       "      <td>2</td>\n",
       "      <td>3.0</td>\n",
       "      <td>0.0</td>\n",
       "      <td>0.872636</td>\n",
       "    </tr>\n",
       "    <tr>\n",
       "      <th>3</th>\n",
       "      <td>7.7</td>\n",
       "      <td>1</td>\n",
       "      <td>5.0</td>\n",
       "      <td>4.0</td>\n",
       "      <td>1.738444</td>\n",
       "    </tr>\n",
       "    <tr>\n",
       "      <th>4</th>\n",
       "      <td>5.3</td>\n",
       "      <td>1</td>\n",
       "      <td>1.0</td>\n",
       "      <td>7.0</td>\n",
       "      <td>1.253707</td>\n",
       "    </tr>\n",
       "  </tbody>\n",
       "</table>\n",
       "</div>"
      ],
      "text/plain": [
       "   fare_amount  passenger_count  dia  hora  distancia\n",
       "0          4.5                1  0.0  17.0   0.641024\n",
       "1         16.9                1  1.0  16.0   5.275538\n",
       "2          5.7                2  3.0   0.0   0.872636\n",
       "3          7.7                1  5.0   4.0   1.738444\n",
       "4          5.3                1  1.0   7.0   1.253707"
      ]
     },
     "execution_count": 9,
     "metadata": {},
     "output_type": "execute_result"
    }
   ],
   "source": [
    "df.drop(columns=['pickup_datetime', 'pickup_longitude', 'pickup_latitude', 'dropoff_longitude', 'dropoff_latitude'], inplace=True)\n",
    "df.head()"
   ]
  },
  {
   "cell_type": "markdown",
   "id": "16586e34",
   "metadata": {},
   "source": [
    "### 3.5 Detecção e tratamento de outliers"
   ]
  },
  {
   "cell_type": "code",
   "execution_count": 10,
   "id": "2ca9c529",
   "metadata": {},
   "outputs": [
    {
     "data": {
      "text/plain": [
       "fare_amount        1.000000\n",
       "distancia          0.021152\n",
       "passenger_count    0.012906\n",
       "dia                0.002001\n",
       "hora              -0.018940\n",
       "Name: fare_amount, dtype: float64"
      ]
     },
     "execution_count": 10,
     "metadata": {},
     "output_type": "execute_result"
    }
   ],
   "source": [
    "# Vamos verificar a correlação novamente\n",
    "\n",
    "corr_matrix1 = df.corr()\n",
    "corr_matrix1['fare_amount'].sort_values(ascending=False)"
   ]
  },
  {
   "cell_type": "markdown",
   "id": "f7195ee9",
   "metadata": {},
   "source": [
    "- Ainda não há uma forte correlação entre a distância percorrida e o valor da tarifa."
   ]
  },
  {
   "cell_type": "code",
   "execution_count": 11,
   "id": "1eab7664",
   "metadata": {},
   "outputs": [
    {
     "data": {
      "text/html": [
       "<div>\n",
       "<style scoped>\n",
       "    .dataframe tbody tr th:only-of-type {\n",
       "        vertical-align: middle;\n",
       "    }\n",
       "\n",
       "    .dataframe tbody tr th {\n",
       "        vertical-align: top;\n",
       "    }\n",
       "\n",
       "    .dataframe thead th {\n",
       "        text-align: right;\n",
       "    }\n",
       "</style>\n",
       "<table border=\"1\" class=\"dataframe\">\n",
       "  <thead>\n",
       "    <tr style=\"text-align: right;\">\n",
       "      <th></th>\n",
       "      <th>fare_amount</th>\n",
       "      <th>passenger_count</th>\n",
       "      <th>dia</th>\n",
       "      <th>hora</th>\n",
       "      <th>distancia</th>\n",
       "    </tr>\n",
       "  </thead>\n",
       "  <tbody>\n",
       "    <tr>\n",
       "      <th>count</th>\n",
       "      <td>149447.000000</td>\n",
       "      <td>149447.000000</td>\n",
       "      <td>149447.000000</td>\n",
       "      <td>149447.000000</td>\n",
       "      <td>149447.000000</td>\n",
       "    </tr>\n",
       "    <tr>\n",
       "      <th>mean</th>\n",
       "      <td>11.370030</td>\n",
       "      <td>1.686625</td>\n",
       "      <td>3.035337</td>\n",
       "      <td>13.504306</td>\n",
       "      <td>10.771987</td>\n",
       "    </tr>\n",
       "    <tr>\n",
       "      <th>std</th>\n",
       "      <td>9.881475</td>\n",
       "      <td>1.304196</td>\n",
       "      <td>1.950484</td>\n",
       "      <td>6.503917</td>\n",
       "      <td>235.969618</td>\n",
       "    </tr>\n",
       "    <tr>\n",
       "      <th>min</th>\n",
       "      <td>-44.900000</td>\n",
       "      <td>1.000000</td>\n",
       "      <td>0.000000</td>\n",
       "      <td>0.000000</td>\n",
       "      <td>0.000000</td>\n",
       "    </tr>\n",
       "    <tr>\n",
       "      <th>25%</th>\n",
       "      <td>6.000000</td>\n",
       "      <td>1.000000</td>\n",
       "      <td>1.000000</td>\n",
       "      <td>9.000000</td>\n",
       "      <td>0.769184</td>\n",
       "    </tr>\n",
       "    <tr>\n",
       "      <th>50%</th>\n",
       "      <td>8.500000</td>\n",
       "      <td>1.000000</td>\n",
       "      <td>3.000000</td>\n",
       "      <td>14.000000</td>\n",
       "      <td>1.338367</td>\n",
       "    </tr>\n",
       "    <tr>\n",
       "      <th>75%</th>\n",
       "      <td>12.500000</td>\n",
       "      <td>2.000000</td>\n",
       "      <td>5.000000</td>\n",
       "      <td>19.000000</td>\n",
       "      <td>2.440299</td>\n",
       "    </tr>\n",
       "    <tr>\n",
       "      <th>max</th>\n",
       "      <td>500.000000</td>\n",
       "      <td>6.000000</td>\n",
       "      <td>6.000000</td>\n",
       "      <td>23.000000</td>\n",
       "      <td>36175.844694</td>\n",
       "    </tr>\n",
       "  </tbody>\n",
       "</table>\n",
       "</div>"
      ],
      "text/plain": [
       "         fare_amount  passenger_count            dia           hora  \\\n",
       "count  149447.000000    149447.000000  149447.000000  149447.000000   \n",
       "mean       11.370030         1.686625       3.035337      13.504306   \n",
       "std         9.881475         1.304196       1.950484       6.503917   \n",
       "min       -44.900000         1.000000       0.000000       0.000000   \n",
       "25%         6.000000         1.000000       1.000000       9.000000   \n",
       "50%         8.500000         1.000000       3.000000      14.000000   \n",
       "75%        12.500000         2.000000       5.000000      19.000000   \n",
       "max       500.000000         6.000000       6.000000      23.000000   \n",
       "\n",
       "           distancia  \n",
       "count  149447.000000  \n",
       "mean       10.771987  \n",
       "std       235.969618  \n",
       "min         0.000000  \n",
       "25%         0.769184  \n",
       "50%         1.338367  \n",
       "75%         2.440299  \n",
       "max     36175.844694  "
      ]
     },
     "execution_count": 11,
     "metadata": {},
     "output_type": "execute_result"
    }
   ],
   "source": [
    "# O conjunto de dados contém outliers?\n",
    "\n",
    "df.describe()"
   ]
  },
  {
   "cell_type": "markdown",
   "id": "7a8b53d7",
   "metadata": {},
   "source": [
    "- As variáveis fare_amount e distancia apresentam  outliers."
   ]
  },
  {
   "cell_type": "markdown",
   "id": "22701219",
   "metadata": {},
   "source": [
    "###  Target fare_amount"
   ]
  },
  {
   "cell_type": "code",
   "execution_count": 12,
   "id": "c61afe44",
   "metadata": {},
   "outputs": [
    {
     "data": {
      "image/png": "[encoded data removed]",
      "text/plain": [
       "<Figure size 432x288 with 1 Axes>"
      ]
     },
     "metadata": {},
     "output_type": "display_data"
    }
   ],
   "source": [
    "minimo = df.fare_amount.min()\n",
    "\n",
    "bins = np.arange(minimo,100,2.5)\n",
    "\n",
    "plt.figure()\n",
    "df.fare_amount.hist(bins=bins, rwidth=.8);\n"
   ]
  },
  {
   "cell_type": "code",
   "execution_count": 13,
   "id": "3d5b5d8d",
   "metadata": {},
   "outputs": [
    {
     "data": {
      "image/png": "[encoded data removed]",
      "text/plain": [
       "<Figure size 432x288 with 1 Axes>"
      ]
     },
     "metadata": {},
     "output_type": "display_data"
    }
   ],
   "source": [
    "df['fare_amount'].plot(kind = 'box');"
   ]
  },
  {
   "cell_type": "code",
   "execution_count": 14,
   "id": "39f3a746",
   "metadata": {},
   "outputs": [
    {
     "data": {
      "text/plain": [
       "42.83"
      ]
     },
     "execution_count": 14,
     "metadata": {},
     "output_type": "execute_result"
    }
   ],
   "source": [
    "top = df['fare_amount'].quantile(0.975)\n",
    "top"
   ]
  },
  {
   "cell_type": "code",
   "execution_count": 15,
   "id": "8ae765bd",
   "metadata": {},
   "outputs": [
    {
     "data": {
      "text/plain": [
       "3.7"
      ]
     },
     "execution_count": 15,
     "metadata": {},
     "output_type": "execute_result"
    }
   ],
   "source": [
    "down =df['fare_amount'].quantile(0.025)\n",
    "down"
   ]
  },
  {
   "cell_type": "markdown",
   "id": "5c7d6d6e",
   "metadata": {},
   "source": [
    "### Feature distancia"
   ]
  },
  {
   "cell_type": "code",
   "execution_count": 16,
   "id": "2dfb262d",
   "metadata": {},
   "outputs": [
    {
     "data": {
      "image/png": "[encoded data removed]",
      "text/plain": [
       "<Figure size 432x288 with 1 Axes>"
      ]
     },
     "metadata": {},
     "output_type": "display_data"
    }
   ],
   "source": [
    "minimo = df.distancia.min()\n",
    "\n",
    "bins = np.arange(minimo,50,2)\n",
    "\n",
    "plt.figure()\n",
    "df.distancia.hist(bins=bins, rwidth=.8);\n"
   ]
  },
  {
   "cell_type": "code",
   "execution_count": 17,
   "id": "47766ed6",
   "metadata": {},
   "outputs": [
    {
     "data": {
      "image/png": "[encoded data removed]",
      "text/plain": [
       "<Figure size 432x288 with 1 Axes>"
      ]
     },
     "metadata": {},
     "output_type": "display_data"
    }
   ],
   "source": [
    "df['distancia'].plot(kind = 'box');"
   ]
  },
  {
   "cell_type": "code",
   "execution_count": 18,
   "id": "fe42b0cf",
   "metadata": {},
   "outputs": [
    {
     "data": {
      "text/plain": [
       "9.586651309287273"
      ]
     },
     "execution_count": 18,
     "metadata": {},
     "output_type": "execute_result"
    }
   ],
   "source": [
    "top1 = df['distancia'].quantile(0.975)\n",
    "top1"
   ]
  },
  {
   "cell_type": "code",
   "execution_count": 19,
   "id": "0e0b683e",
   "metadata": {},
   "outputs": [
    {
     "data": {
      "text/plain": [
       "0.0"
      ]
     },
     "execution_count": 19,
     "metadata": {},
     "output_type": "execute_result"
    }
   ],
   "source": [
    "down1 = df['distancia'].quantile(0.025)\n",
    "down1"
   ]
  },
  {
   "cell_type": "markdown",
   "id": "336c7b69",
   "metadata": {},
   "source": [
    "### 3.6 Com base na detecção de outliers, estão sendo aplicados limites razoáveis às tarifas e distâncias."
   ]
  },
  {
   "cell_type": "code",
   "execution_count": 20,
   "id": "95fa2792",
   "metadata": {},
   "outputs": [
    {
     "data": {
      "text/plain": [
       "fare_amount        1.000000\n",
       "distancia          0.876473\n",
       "passenger_count    0.014128\n",
       "dia                0.008400\n",
       "hora              -0.024811\n",
       "Name: fare_amount, dtype: float64"
      ]
     },
     "execution_count": 20,
     "metadata": {},
     "output_type": "execute_result"
    }
   ],
   "source": [
    "df = df[(df['distancia'] > 0) & (df['distancia'] < 10)]\n",
    "df = df[(df['fare_amount'] > 3) & (df['fare_amount'] < 45)]\n",
    "\n",
    "corr_matrix2 = df.corr()\n",
    "corr_matrix2['fare_amount'].sort_values(ascending=False)"
   ]
  },
  {
   "cell_type": "markdown",
   "id": "6c1fa394",
   "metadata": {},
   "source": [
    "- Existe uma forte correlação entre a distância percorrida e o valor da tarifa.\n",
    "- A correlação entre o dia da semana, a hora do dia, número de passageiros  e o valor da tarifa ainda é fraca, mas vamos deixar essas colunas."
   ]
  },
  {
   "cell_type": "code",
   "execution_count": 21,
   "id": "0b00f7f4",
   "metadata": {},
   "outputs": [
    {
     "data": {
      "text/plain": [
       "(139967, 5)"
      ]
     },
     "execution_count": 21,
     "metadata": {},
     "output_type": "execute_result"
    }
   ],
   "source": [
    "df.shape"
   ]
  },
  {
   "cell_type": "markdown",
   "id": "eedac0c4",
   "metadata": {},
   "source": [
    "- Isso deixa 139967 linhas no conjunto de dados."
   ]
  },
  {
   "cell_type": "markdown",
   "id": "0e1666d3",
   "metadata": {},
   "source": [
    "## 4. Treinamento dos modelos"
   ]
  },
  {
   "cell_type": "markdown",
   "id": "74475d66",
   "metadata": {},
   "source": [
    "### 4.1 Divisão em treino e teste"
   ]
  },
  {
   "cell_type": "code",
   "execution_count": 22,
   "id": "e322c0af",
   "metadata": {},
   "outputs": [
    {
     "data": {
      "text/html": [
       "<div>\n",
       "<style scoped>\n",
       "    .dataframe tbody tr th:only-of-type {\n",
       "        vertical-align: middle;\n",
       "    }\n",
       "\n",
       "    .dataframe tbody tr th {\n",
       "        vertical-align: top;\n",
       "    }\n",
       "\n",
       "    .dataframe thead th {\n",
       "        text-align: right;\n",
       "    }\n",
       "</style>\n",
       "<table border=\"1\" class=\"dataframe\">\n",
       "  <thead>\n",
       "    <tr style=\"text-align: right;\">\n",
       "      <th></th>\n",
       "      <th>passenger_count</th>\n",
       "      <th>dia</th>\n",
       "      <th>hora</th>\n",
       "      <th>distancia</th>\n",
       "    </tr>\n",
       "  </thead>\n",
       "  <tbody>\n",
       "    <tr>\n",
       "      <th>141359</th>\n",
       "      <td>1</td>\n",
       "      <td>6.0</td>\n",
       "      <td>8.0</td>\n",
       "      <td>1.482355</td>\n",
       "    </tr>\n",
       "    <tr>\n",
       "      <th>22525</th>\n",
       "      <td>1</td>\n",
       "      <td>3.0</td>\n",
       "      <td>9.0</td>\n",
       "      <td>1.312098</td>\n",
       "    </tr>\n",
       "    <tr>\n",
       "      <th>135668</th>\n",
       "      <td>2</td>\n",
       "      <td>5.0</td>\n",
       "      <td>11.0</td>\n",
       "      <td>1.467270</td>\n",
       "    </tr>\n",
       "    <tr>\n",
       "      <th>120224</th>\n",
       "      <td>1</td>\n",
       "      <td>2.0</td>\n",
       "      <td>10.0</td>\n",
       "      <td>1.040250</td>\n",
       "    </tr>\n",
       "    <tr>\n",
       "      <th>145889</th>\n",
       "      <td>1</td>\n",
       "      <td>2.0</td>\n",
       "      <td>11.0</td>\n",
       "      <td>0.005553</td>\n",
       "    </tr>\n",
       "    <tr>\n",
       "      <th>...</th>\n",
       "      <td>...</td>\n",
       "      <td>...</td>\n",
       "      <td>...</td>\n",
       "      <td>...</td>\n",
       "    </tr>\n",
       "    <tr>\n",
       "      <th>71223</th>\n",
       "      <td>1</td>\n",
       "      <td>6.0</td>\n",
       "      <td>19.0</td>\n",
       "      <td>3.590887</td>\n",
       "    </tr>\n",
       "    <tr>\n",
       "      <th>57286</th>\n",
       "      <td>1</td>\n",
       "      <td>3.0</td>\n",
       "      <td>16.0</td>\n",
       "      <td>1.224888</td>\n",
       "    </tr>\n",
       "    <tr>\n",
       "      <th>11497</th>\n",
       "      <td>1</td>\n",
       "      <td>2.0</td>\n",
       "      <td>9.0</td>\n",
       "      <td>1.398217</td>\n",
       "    </tr>\n",
       "    <tr>\n",
       "      <th>53242</th>\n",
       "      <td>2</td>\n",
       "      <td>6.0</td>\n",
       "      <td>2.0</td>\n",
       "      <td>1.551872</td>\n",
       "    </tr>\n",
       "    <tr>\n",
       "      <th>66032</th>\n",
       "      <td>1</td>\n",
       "      <td>6.0</td>\n",
       "      <td>8.0</td>\n",
       "      <td>1.859191</td>\n",
       "    </tr>\n",
       "  </tbody>\n",
       "</table>\n",
       "<p>97976 rows × 4 columns</p>\n",
       "</div>"
      ],
      "text/plain": [
       "        passenger_count  dia  hora  distancia\n",
       "141359                1  6.0   8.0   1.482355\n",
       "22525                 1  3.0   9.0   1.312098\n",
       "135668                2  5.0  11.0   1.467270\n",
       "120224                1  2.0  10.0   1.040250\n",
       "145889                1  2.0  11.0   0.005553\n",
       "...                 ...  ...   ...        ...\n",
       "71223                 1  6.0  19.0   3.590887\n",
       "57286                 1  3.0  16.0   1.224888\n",
       "11497                 1  2.0   9.0   1.398217\n",
       "53242                 2  6.0   2.0   1.551872\n",
       "66032                 1  6.0   8.0   1.859191\n",
       "\n",
       "[97976 rows x 4 columns]"
      ]
     },
     "execution_count": 22,
     "metadata": {},
     "output_type": "execute_result"
    }
   ],
   "source": [
    "X = df.drop(['fare_amount'], axis=1)\n",
    "y = df['fare_amount']\n",
    " \n",
    "from sklearn.model_selection import train_test_split\n",
    "\n",
    "X_tr, X_ts, y_tr, y_ts = train_test_split(X,y, test_size=0.30, random_state=7)\n",
    "\n",
    "X_tr"
   ]
  },
  {
   "cell_type": "markdown",
   "id": "737b45eb",
   "metadata": {},
   "source": [
    "- Tentaremos dois algoritmos de regressão diferentes para determinar qual deles produz os resultados mais precisos."
   ]
  },
  {
   "cell_type": "markdown",
   "id": "70d04851",
   "metadata": {},
   "source": [
    "### 4.2 Regressão Linear"
   ]
  },
  {
   "cell_type": "code",
   "execution_count": 23,
   "id": "d6e203ac",
   "metadata": {},
   "outputs": [
    {
     "name": "stdout",
     "output_type": "stream",
     "text": [
      "O valor do RMSE foi de 3.1741 dólares\n",
      "O valor do MAE foi de 2.0411 dólares\n"
     ]
    }
   ],
   "source": [
    "from sklearn.linear_model import LinearRegression\n",
    "from sklearn.metrics import mean_squared_error, mean_absolute_error\n",
    "\n",
    "lr = LinearRegression()\n",
    "\n",
    "# Ajuste do modelo nos dados de TREINO\n",
    "lr.fit(X_tr, y_tr)\n",
    "\n",
    "# Utilizando o modelo para predizer os dados de TESTE\n",
    "y_pred_lr = lr.predict(X_ts)\n",
    "\n",
    "# Métricas para Avaliação RMSE e MAE\n",
    "\n",
    "RMSE_lr = mean_squared_error(y_ts, y_pred_lr)**0.5\n",
    "\n",
    "MAE_lr = mean_absolute_error(y_ts, y_pred_lr)\n",
    "\n",
    "print(f\"O valor do RMSE foi de {RMSE_lr:.4f} dólares\")\n",
    "print(f\"O valor do MAE foi de {MAE_lr:.4f} dólares\")\n"
   ]
  },
  {
   "cell_type": "markdown",
   "id": "4b5a5bba",
   "metadata": {},
   "source": [
    "- O modelo está  errando mais ou menos 3.17 dólares e 2.04 dólares em termos absolutos."
   ]
  },
  {
   "cell_type": "markdown",
   "id": "80d5a127",
   "metadata": {},
   "source": [
    "### Histograma do modelo"
   ]
  },
  {
   "cell_type": "code",
   "execution_count": 24,
   "id": "dfdfa3c7",
   "metadata": {},
   "outputs": [
    {
     "data": {
      "image/png": "[encoded data removed]",
      "text/plain": [
       "<Figure size 1080x720 with 1 Axes>"
      ]
     },
     "metadata": {},
     "output_type": "display_data"
    }
   ],
   "source": [
    "plt.figure(figsize=(15,10))\n",
    "\n",
    "m1 = y_ts.min()\n",
    "M1 = y_ts.max()\n",
    "\n",
    "plt.hist(y_ts, bins=np.linspace(m1,M1,15), rwidth=.8, density=True, alpha=.3, color='b')\n",
    "plt.hist(lr.predict(X_ts), bins=np.linspace(m1,M1,15), rwidth=.8, density=True, alpha=.3, color='r');"
   ]
  },
  {
   "cell_type": "markdown",
   "id": "3b2cb728",
   "metadata": {},
   "source": [
    "- O modelo está prevendo bem, porém tem certa dificuldade para predizer tarifas menores."
   ]
  },
  {
   "cell_type": "markdown",
   "id": "8ff3683a",
   "metadata": {},
   "source": [
    "### 4.3 Árvores de Decisão"
   ]
  },
  {
   "cell_type": "code",
   "execution_count": 25,
   "id": "e2d89b08",
   "metadata": {},
   "outputs": [
    {
     "data": {
      "text/html": [
       "<style>#sk-container-id-1 {color: black;background-color: white;}#sk-container-id-1 pre{padding: 0;}#sk-container-id-1 div.sk-toggleable {background-color: white;}#sk-container-id-1 label.sk-toggleable__label {cursor: pointer;display: block;width: 100%;margin-bottom: 0;padding: 0.3em;box-sizing: border-box;text-align: center;}#sk-container-id-1 label.sk-toggleable__label-arrow:before {content: \"▸\";float: left;margin-right: 0.25em;color: #696969;}#sk-container-id-1 label.sk-toggleable__label-arrow:hover:before {color: black;}#sk-container-id-1 div.sk-estimator:hover label.sk-toggleable__label-arrow:before {color: black;}#sk-container-id-1 div.sk-toggleable__content {max-height: 0;max-width: 0;overflow: hidden;text-align: left;background-color: #f0f8ff;}#sk-container-id-1 div.sk-toggleable__content pre {margin: 0.2em;color: black;border-radius: 0.25em;background-color: #f0f8ff;}#sk-container-id-1 input.sk-toggleable__control:checked~div.sk-toggleable__content {max-height: 200px;max-width: 100%;overflow: auto;}#sk-container-id-1 input.sk-toggleable__control:checked~label.sk-toggleable__label-arrow:before {content: \"▾\";}#sk-container-id-1 div.sk-estimator input.sk-toggleable__control:checked~label.sk-toggleable__label {background-color: #d4ebff;}#sk-container-id-1 div.sk-label input.sk-toggleable__control:checked~label.sk-toggleable__label {background-color: #d4ebff;}#sk-container-id-1 input.sk-hidden--visually {border: 0;clip: rect(1px 1px 1px 1px);clip: rect(1px, 1px, 1px, 1px);height: 1px;margin: -1px;overflow: hidden;padding: 0;position: absolute;width: 1px;}#sk-container-id-1 div.sk-estimator {font-family: monospace;background-color: #f0f8ff;border: 1px dotted black;border-radius: 0.25em;box-sizing: border-box;margin-bottom: 0.5em;}#sk-container-id-1 div.sk-estimator:hover {background-color: #d4ebff;}#sk-container-id-1 div.sk-parallel-item::after {content: \"\";width: 100%;border-bottom: 1px solid gray;flex-grow: 1;}#sk-container-id-1 div.sk-label:hover label.sk-toggleable__label {background-color: #d4ebff;}#sk-container-id-1 div.sk-serial::before {content: \"\";position: absolute;border-left: 1px solid gray;box-sizing: border-box;top: 0;bottom: 0;left: 50%;z-index: 0;}#sk-container-id-1 div.sk-serial {display: flex;flex-direction: column;align-items: center;background-color: white;padding-right: 0.2em;padding-left: 0.2em;position: relative;}#sk-container-id-1 div.sk-item {position: relative;z-index: 1;}#sk-container-id-1 div.sk-parallel {display: flex;align-items: stretch;justify-content: center;background-color: white;position: relative;}#sk-container-id-1 div.sk-item::before, #sk-container-id-1 div.sk-parallel-item::before {content: \"\";position: absolute;border-left: 1px solid gray;box-sizing: border-box;top: 0;bottom: 0;left: 50%;z-index: -1;}#sk-container-id-1 div.sk-parallel-item {display: flex;flex-direction: column;z-index: 1;position: relative;background-color: white;}#sk-container-id-1 div.sk-parallel-item:first-child::after {align-self: flex-end;width: 50%;}#sk-container-id-1 div.sk-parallel-item:last-child::after {align-self: flex-start;width: 50%;}#sk-container-id-1 div.sk-parallel-item:only-child::after {width: 0;}#sk-container-id-1 div.sk-dashed-wrapped {border: 1px dashed gray;margin: 0 0.4em 0.5em 0.4em;box-sizing: border-box;padding-bottom: 0.4em;background-color: white;}#sk-container-id-1 div.sk-label label {font-family: monospace;font-weight: bold;display: inline-block;line-height: 1.2em;}#sk-container-id-1 div.sk-label-container {text-align: center;}#sk-container-id-1 div.sk-container {/* jupyter's `normalize.less` sets `[hidden] { display: none; }` but bootstrap.min.css set `[hidden] { display: none !important; }` so we also need the `!important` here to be able to override the default hidden behavior on the sphinx rendered scikit-learn.org. See: https://github.com/scikit-learn/scikit-learn/issues/21755 */display: inline-block !important;position: relative;}#sk-container-id-1 div.sk-text-repr-fallback {display: none;}</style><div id=\"sk-container-id-1\" class=\"sk-top-container\"><div class=\"sk-text-repr-fallback\"><pre>GridSearchCV(cv=10, estimator=DecisionTreeRegressor(random_state=7), n_jobs=5,\n",
       "             param_grid={&#x27;max_leaf_nodes&#x27;: [75, 100, 125],\n",
       "                         &#x27;min_samples_leaf&#x27;: [8, 9, 10]},\n",
       "             scoring=&#x27;neg_mean_absolute_error&#x27;)</pre><b>In a Jupyter environment, please rerun this cell to show the HTML representation or trust the notebook. <br />On GitHub, the HTML representation is unable to render, please try loading this page with nbviewer.org.</b></div><div class=\"sk-container\" hidden><div class=\"sk-item sk-dashed-wrapped\"><div class=\"sk-label-container\"><div class=\"sk-label sk-toggleable\"><input class=\"sk-toggleable__control sk-hidden--visually\" id=\"sk-estimator-id-1\" type=\"checkbox\" ><label for=\"sk-estimator-id-1\" class=\"sk-toggleable__label sk-toggleable__label-arrow\">GridSearchCV</label><div class=\"sk-toggleable__content\"><pre>GridSearchCV(cv=10, estimator=DecisionTreeRegressor(random_state=7), n_jobs=5,\n",
       "             param_grid={&#x27;max_leaf_nodes&#x27;: [75, 100, 125],\n",
       "                         &#x27;min_samples_leaf&#x27;: [8, 9, 10]},\n",
       "             scoring=&#x27;neg_mean_absolute_error&#x27;)</pre></div></div></div><div class=\"sk-parallel\"><div class=\"sk-parallel-item\"><div class=\"sk-item\"><div class=\"sk-label-container\"><div class=\"sk-label sk-toggleable\"><input class=\"sk-toggleable__control sk-hidden--visually\" id=\"sk-estimator-id-2\" type=\"checkbox\" ><label for=\"sk-estimator-id-2\" class=\"sk-toggleable__label sk-toggleable__label-arrow\">estimator: DecisionTreeRegressor</label><div class=\"sk-toggleable__content\"><pre>DecisionTreeRegressor(random_state=7)</pre></div></div></div><div class=\"sk-serial\"><div class=\"sk-item\"><div class=\"sk-estimator sk-toggleable\"><input class=\"sk-toggleable__control sk-hidden--visually\" id=\"sk-estimator-id-3\" type=\"checkbox\" ><label for=\"sk-estimator-id-3\" class=\"sk-toggleable__label sk-toggleable__label-arrow\">DecisionTreeRegressor</label><div class=\"sk-toggleable__content\"><pre>DecisionTreeRegressor(random_state=7)</pre></div></div></div></div></div></div></div></div></div></div>"
      ],
      "text/plain": [
       "GridSearchCV(cv=10, estimator=DecisionTreeRegressor(random_state=7), n_jobs=5,\n",
       "             param_grid={'max_leaf_nodes': [75, 100, 125],\n",
       "                         'min_samples_leaf': [8, 9, 10]},\n",
       "             scoring='neg_mean_absolute_error')"
      ]
     },
     "execution_count": 25,
     "metadata": {},
     "output_type": "execute_result"
    }
   ],
   "source": [
    "from sklearn.tree import DecisionTreeRegressor\n",
    "from sklearn.model_selection import GridSearchCV\n",
    "\n",
    "# Definição dos parâmetros de VALIDAÇÃO CRUZADA\n",
    "\n",
    "params = {\n",
    "    'max_leaf_nodes':[75,100,125],\n",
    "    'min_samples_leaf': [8,9,10],\n",
    "}\n",
    "\n",
    "grid = GridSearchCV(\n",
    "    DecisionTreeRegressor(criterion='squared_error', random_state=7),\n",
    "    params,\n",
    "    cv=10,\n",
    "    scoring='neg_mean_absolute_error',\n",
    "    n_jobs=5,\n",
    "    verbose=0\n",
    ")\n",
    "\n",
    "\n",
    "grid.fit(X_tr, y_tr)"
   ]
  },
  {
   "cell_type": "code",
   "execution_count": 26,
   "id": "4c9bafe3",
   "metadata": {},
   "outputs": [
    {
     "data": {
      "text/plain": [
       "{'max_leaf_nodes': 100, 'min_samples_leaf': 9}"
      ]
     },
     "execution_count": 26,
     "metadata": {},
     "output_type": "execute_result"
    }
   ],
   "source": [
    "# Quais foram os melhores parâmetros?\n",
    "grid.best_params_"
   ]
  },
  {
   "cell_type": "code",
   "execution_count": 27,
   "id": "de102991",
   "metadata": {},
   "outputs": [
    {
     "name": "stdout",
     "output_type": "stream",
     "text": [
      "O valor do RMSE foi de 3.0353 dólares\n",
      "O valor do MAE foi de 1.9599 dólares\n"
     ]
    }
   ],
   "source": [
    "# Utilizando o modelo ajustado para predizer os dados de TESTE\n",
    "\n",
    "y_pred_tree = grid.predict(X_ts)\n",
    "\n",
    "# Métricas para Avaliação RMSE e MAE\n",
    "\n",
    "RMSE_tree = mean_squared_error(y_ts, y_pred_tree)**0.5\n",
    "\n",
    "MAE_tree = mean_absolute_error(y_ts, y_pred_tree)\n",
    "\n",
    "print(f\"O valor do RMSE foi de {RMSE_tree:.4f} dólares\")\n",
    "print(f\"O valor do MAE foi de {MAE_tree:.4f} dólares\")"
   ]
  },
  {
   "cell_type": "markdown",
   "id": "4d2e976d",
   "metadata": {},
   "source": [
    "- O modelo está  errando mais ou menos 3.03 dólares e 1.95 dólares em termos absolutos. No entanto, em comparação com o modelo anterior, o desempenho deste modelo é um pouco melhor."
   ]
  },
  {
   "cell_type": "markdown",
   "id": "e1394924",
   "metadata": {},
   "source": [
    "### Histograma do modelo"
   ]
  },
  {
   "cell_type": "code",
   "execution_count": 28,
   "id": "a4cb4750",
   "metadata": {},
   "outputs": [
    {
     "data": {
      "image/png": "[encoded data removed]",
      "text/plain": [
       "<Figure size 1080x720 with 1 Axes>"
      ]
     },
     "metadata": {},
     "output_type": "display_data"
    }
   ],
   "source": [
    "plt.figure(figsize=(15,10))\n",
    "\n",
    "m = y_ts.min()\n",
    "M = y_ts.max()\n",
    "\n",
    "plt.hist(y_ts, bins=np.linspace(m,M,15), rwidth=.8, density=True, alpha=.3, color='b')\n",
    "plt.hist(grid.predict(X_ts), bins=np.linspace(m,M,15), rwidth=.8, density=True, alpha=.3, color='r');"
   ]
  },
  {
   "cell_type": "markdown",
   "id": "a6e14e70",
   "metadata": {},
   "source": [
    "- O modelo atual demonstra um desempenho ligeiramente superior em relação ao modelo anterior, de acordo com as métricas de RMSE  e MAE."
   ]
  },
  {
   "cell_type": "markdown",
   "id": "21055357",
   "metadata": {},
   "source": [
    "### Verificar a IMPORTÂNCIA DE VARIÁVEIS"
   ]
  },
  {
   "cell_type": "code",
   "execution_count": 29,
   "id": "70a7a744",
   "metadata": {},
   "outputs": [
    {
     "name": "stdout",
     "output_type": "stream",
     "text": [
      "distancia                     ,0.9844\n",
      "hora                          ,0.0135\n",
      "dia                           ,0.0019\n",
      "passenger_count               ,0.0001\n"
     ]
    }
   ],
   "source": [
    "importancias = grid.best_estimator_.feature_importances_\n",
    "ordem = np.argsort(importancias)[::-1]\n",
    "colunas = X.columns\n",
    "\n",
    "for col,imp in zip(colunas[ordem],importancias[ordem]):\n",
    "    print(f'{col:30s},{imp:.4f}')"
   ]
  },
  {
   "cell_type": "markdown",
   "id": "fc1d65fd",
   "metadata": {},
   "source": [
    "- A variável mais importante para prever a tarifa neste modelo foi a distância.\n",
    "- Podemos melhorar o modelo de árvore de decisão usando a importância das variáveis.Podemos eliminar a variável passenger_count."
   ]
  },
  {
   "cell_type": "markdown",
   "id": "89f4dd99",
   "metadata": {},
   "source": [
    "###  Fazendo um modelo melhor  (ou no mínimo mais simples)"
   ]
  },
  {
   "cell_type": "code",
   "execution_count": 30,
   "id": "41d10881",
   "metadata": {},
   "outputs": [
    {
     "data": {
      "text/html": [
       "<style>#sk-container-id-2 {color: black;background-color: white;}#sk-container-id-2 pre{padding: 0;}#sk-container-id-2 div.sk-toggleable {background-color: white;}#sk-container-id-2 label.sk-toggleable__label {cursor: pointer;display: block;width: 100%;margin-bottom: 0;padding: 0.3em;box-sizing: border-box;text-align: center;}#sk-container-id-2 label.sk-toggleable__label-arrow:before {content: \"▸\";float: left;margin-right: 0.25em;color: #696969;}#sk-container-id-2 label.sk-toggleable__label-arrow:hover:before {color: black;}#sk-container-id-2 div.sk-estimator:hover label.sk-toggleable__label-arrow:before {color: black;}#sk-container-id-2 div.sk-toggleable__content {max-height: 0;max-width: 0;overflow: hidden;text-align: left;background-color: #f0f8ff;}#sk-container-id-2 div.sk-toggleable__content pre {margin: 0.2em;color: black;border-radius: 0.25em;background-color: #f0f8ff;}#sk-container-id-2 input.sk-toggleable__control:checked~div.sk-toggleable__content {max-height: 200px;max-width: 100%;overflow: auto;}#sk-container-id-2 input.sk-toggleable__control:checked~label.sk-toggleable__label-arrow:before {content: \"▾\";}#sk-container-id-2 div.sk-estimator input.sk-toggleable__control:checked~label.sk-toggleable__label {background-color: #d4ebff;}#sk-container-id-2 div.sk-label input.sk-toggleable__control:checked~label.sk-toggleable__label {background-color: #d4ebff;}#sk-container-id-2 input.sk-hidden--visually {border: 0;clip: rect(1px 1px 1px 1px);clip: rect(1px, 1px, 1px, 1px);height: 1px;margin: -1px;overflow: hidden;padding: 0;position: absolute;width: 1px;}#sk-container-id-2 div.sk-estimator {font-family: monospace;background-color: #f0f8ff;border: 1px dotted black;border-radius: 0.25em;box-sizing: border-box;margin-bottom: 0.5em;}#sk-container-id-2 div.sk-estimator:hover {background-color: #d4ebff;}#sk-container-id-2 div.sk-parallel-item::after {content: \"\";width: 100%;border-bottom: 1px solid gray;flex-grow: 1;}#sk-container-id-2 div.sk-label:hover label.sk-toggleable__label {background-color: #d4ebff;}#sk-container-id-2 div.sk-serial::before {content: \"\";position: absolute;border-left: 1px solid gray;box-sizing: border-box;top: 0;bottom: 0;left: 50%;z-index: 0;}#sk-container-id-2 div.sk-serial {display: flex;flex-direction: column;align-items: center;background-color: white;padding-right: 0.2em;padding-left: 0.2em;position: relative;}#sk-container-id-2 div.sk-item {position: relative;z-index: 1;}#sk-container-id-2 div.sk-parallel {display: flex;align-items: stretch;justify-content: center;background-color: white;position: relative;}#sk-container-id-2 div.sk-item::before, #sk-container-id-2 div.sk-parallel-item::before {content: \"\";position: absolute;border-left: 1px solid gray;box-sizing: border-box;top: 0;bottom: 0;left: 50%;z-index: -1;}#sk-container-id-2 div.sk-parallel-item {display: flex;flex-direction: column;z-index: 1;position: relative;background-color: white;}#sk-container-id-2 div.sk-parallel-item:first-child::after {align-self: flex-end;width: 50%;}#sk-container-id-2 div.sk-parallel-item:last-child::after {align-self: flex-start;width: 50%;}#sk-container-id-2 div.sk-parallel-item:only-child::after {width: 0;}#sk-container-id-2 div.sk-dashed-wrapped {border: 1px dashed gray;margin: 0 0.4em 0.5em 0.4em;box-sizing: border-box;padding-bottom: 0.4em;background-color: white;}#sk-container-id-2 div.sk-label label {font-family: monospace;font-weight: bold;display: inline-block;line-height: 1.2em;}#sk-container-id-2 div.sk-label-container {text-align: center;}#sk-container-id-2 div.sk-container {/* jupyter's `normalize.less` sets `[hidden] { display: none; }` but bootstrap.min.css set `[hidden] { display: none !important; }` so we also need the `!important` here to be able to override the default hidden behavior on the sphinx rendered scikit-learn.org. See: https://github.com/scikit-learn/scikit-learn/issues/21755 */display: inline-block !important;position: relative;}#sk-container-id-2 div.sk-text-repr-fallback {display: none;}</style><div id=\"sk-container-id-2\" class=\"sk-top-container\"><div class=\"sk-text-repr-fallback\"><pre>GridSearchCV(cv=10, estimator=DecisionTreeRegressor(random_state=7), n_jobs=5,\n",
       "             param_grid={&#x27;max_leaf_nodes&#x27;: [75, 100, 125],\n",
       "                         &#x27;min_samples_leaf&#x27;: [8, 9, 10]},\n",
       "             scoring=&#x27;neg_mean_absolute_error&#x27;)</pre><b>In a Jupyter environment, please rerun this cell to show the HTML representation or trust the notebook. <br />On GitHub, the HTML representation is unable to render, please try loading this page with nbviewer.org.</b></div><div class=\"sk-container\" hidden><div class=\"sk-item sk-dashed-wrapped\"><div class=\"sk-label-container\"><div class=\"sk-label sk-toggleable\"><input class=\"sk-toggleable__control sk-hidden--visually\" id=\"sk-estimator-id-4\" type=\"checkbox\" ><label for=\"sk-estimator-id-4\" class=\"sk-toggleable__label sk-toggleable__label-arrow\">GridSearchCV</label><div class=\"sk-toggleable__content\"><pre>GridSearchCV(cv=10, estimator=DecisionTreeRegressor(random_state=7), n_jobs=5,\n",
       "             param_grid={&#x27;max_leaf_nodes&#x27;: [75, 100, 125],\n",
       "                         &#x27;min_samples_leaf&#x27;: [8, 9, 10]},\n",
       "             scoring=&#x27;neg_mean_absolute_error&#x27;)</pre></div></div></div><div class=\"sk-parallel\"><div class=\"sk-parallel-item\"><div class=\"sk-item\"><div class=\"sk-label-container\"><div class=\"sk-label sk-toggleable\"><input class=\"sk-toggleable__control sk-hidden--visually\" id=\"sk-estimator-id-5\" type=\"checkbox\" ><label for=\"sk-estimator-id-5\" class=\"sk-toggleable__label sk-toggleable__label-arrow\">estimator: DecisionTreeRegressor</label><div class=\"sk-toggleable__content\"><pre>DecisionTreeRegressor(random_state=7)</pre></div></div></div><div class=\"sk-serial\"><div class=\"sk-item\"><div class=\"sk-estimator sk-toggleable\"><input class=\"sk-toggleable__control sk-hidden--visually\" id=\"sk-estimator-id-6\" type=\"checkbox\" ><label for=\"sk-estimator-id-6\" class=\"sk-toggleable__label sk-toggleable__label-arrow\">DecisionTreeRegressor</label><div class=\"sk-toggleable__content\"><pre>DecisionTreeRegressor(random_state=7)</pre></div></div></div></div></div></div></div></div></div></div>"
      ],
      "text/plain": [
       "GridSearchCV(cv=10, estimator=DecisionTreeRegressor(random_state=7), n_jobs=5,\n",
       "             param_grid={'max_leaf_nodes': [75, 100, 125],\n",
       "                         'min_samples_leaf': [8, 9, 10]},\n",
       "             scoring='neg_mean_absolute_error')"
      ]
     },
     "execution_count": 30,
     "metadata": {},
     "output_type": "execute_result"
    }
   ],
   "source": [
    "colunas_selecionadas = [\n",
    "    'dia',\n",
    "    'hora',\n",
    "    'distancia',\n",
    "    \n",
    "]\n",
    "\n",
    "grid.fit(X_tr[colunas_selecionadas],y_tr)"
   ]
  },
  {
   "cell_type": "code",
   "execution_count": 31,
   "id": "600751fe",
   "metadata": {},
   "outputs": [
    {
     "name": "stdout",
     "output_type": "stream",
     "text": [
      "O valor do RMSE foi de 3.0341 dólares\n",
      "O valor do MAE foi de 1.9587 dólares\n"
     ]
    }
   ],
   "source": [
    "# Utilizando o modelo ajustado para predizer os dados de TESTE\n",
    "\n",
    "y_pred_tree1 = grid.predict(X_ts[colunas_selecionadas])\n",
    "\n",
    "# Métricas para Avaliação RMSE e MAE\n",
    "\n",
    "RMSE_tree1 = mean_squared_error(y_ts, y_pred_tree1)**0.5\n",
    "\n",
    "MAE_tree1 = mean_absolute_error(y_ts, y_pred_tree1)\n",
    "\n",
    "print(f\"O valor do RMSE foi de {RMSE_tree1:.4f} dólares\")\n",
    "print(f\"O valor do MAE foi de {MAE_tree1:.4f} dólares\")"
   ]
  },
  {
   "cell_type": "markdown",
   "id": "1e7ebb68",
   "metadata": {},
   "source": [
    "- Houve uma pequena melhoria na métrica RMSE em relação ao modelo anterior."
   ]
  },
  {
   "cell_type": "markdown",
   "id": "f0467b7f",
   "metadata": {},
   "source": [
    "- O modelo de árvore de decisão mais simple (sem a variável passenger_count )  é escolhido como o modelo final para este projeto."
   ]
  },
  {
   "cell_type": "markdown",
   "id": "0b90fce0",
   "metadata": {},
   "source": [
    "### 4.4 Utilizando o modelo para prever os valores das tarifas"
   ]
  },
  {
   "cell_type": "code",
   "execution_count": 32,
   "id": "c3cce820",
   "metadata": {},
   "outputs": [
    {
     "data": {
      "text/plain": [
       "array([13.70846918])"
      ]
     },
     "execution_count": 32,
     "metadata": {},
     "output_type": "execute_result"
    }
   ],
   "source": [
    "# Prevendo o valor da tarifa para uma viagem de 3 milhas feita às 16:00 no dia sábado\n",
    "\n",
    "grid.predict(pd.DataFrame({ 'dia': [5], 'hora': [16], 'distancia': [3.0] }))"
   ]
  },
  {
   "cell_type": "code",
   "execution_count": 33,
   "id": "cea5d2f7",
   "metadata": {},
   "outputs": [
    {
     "data": {
      "text/plain": [
       "array([32.09864729])"
      ]
     },
     "execution_count": 33,
     "metadata": {},
     "output_type": "execute_result"
    }
   ],
   "source": [
    "# Prevendo o valor da tarifa para uma viagem de 8 milhas feita às 11:00 a.m. na segunda-feira\n",
    "\n",
    "grid.predict(pd.DataFrame({ 'dia': [0], 'hora': [11], 'distancia': [8.0] }))"
   ]
  },
  {
   "cell_type": "markdown",
   "id": "408a71f5",
   "metadata": {},
   "source": [
    "## 5. Conclusão"
   ]
  },
  {
   "cell_type": "markdown",
   "id": "fa34b3e6",
   "metadata": {},
   "source": [
    "- Com base na hora do dia, dia da semana e a distância percorrida fornecidos, o modelo pode fazer uma previsão estimada do valor da tarifa. \n",
    "\n",
    "\n",
    "- O modelo está errando mais ou menos 3.03 dólares (RMSE) e 1.95 dólares em termos absolutos (MAE).\n",
    "\n",
    "\n",
    "- A variável mais importante para prever a tarifa foi a distância.\n",
    "\n",
    "\n",
    "- Podemos explorar outros algoritmos de aprendizado, como Random Forest e Gradient Boosting, para melhorar a previsão do modelo. "
   ]
  }
 ],
 "metadata": {
  "kernelspec": {
   "display_name": "Python 3 (ipykernel)",
   "language": "python",
   "name": "python3"
  },
  "language_info": {
   "codemirror_mode": {
    "name": "ipython",
    "version": 3
   },
   "file_extension": ".py",
   "mimetype": "text/x-python",
   "name": "python",
   "nbconvert_exporter": "python",
   "pygments_lexer": "ipython3",
   "version": "3.9.7"
  }
 },
 "nbformat": 4,
 "nbformat_minor": 5
}
